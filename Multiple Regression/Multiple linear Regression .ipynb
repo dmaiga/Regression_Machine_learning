{
 "cells": [
  {
   "cell_type": "markdown",
   "id": "b7e816ee-d23e-4482-8d1e-a465a9a722d3",
   "metadata": {},
   "source": [
    "                                            Multiple linear Regression"
   ]
  },
  {
   "cell_type": "code",
   "execution_count": 4,
   "id": "f92c036a-ac07-4840-a9ef-4792cf70f572",
   "metadata": {},
   "outputs": [],
   "source": [
    "#import des bibliotheques neccessaires\n",
    "import pandas as pd\n",
    "import numpy as np\n",
    "import matplotlib.pyplot as plt\n",
    "from sklearn import linear_model\n",
    "from sklearn.metrics import r2_score\n"
   ]
  },
  {
   "cell_type": "code",
   "execution_count": 6,
   "id": "32f836b5-f0eb-4b7c-8b4d-e138b2bc032c",
   "metadata": {},
   "outputs": [],
   "source": [
    "# Creation du dataframe\n",
    "# Fixer la graine pour la reproductibilité\n",
    "np.random.seed(0)\n",
    "\n",
    "# Nombre de lignes souhaité\n",
    "num_samples = 1000\n",
    "\n",
    "# Génération des données\n",
    "engine_size = np.random.uniform(1.0, 5.0, num_samples)  # Tailles de moteur entre 1.0 et 5.0\n",
    "cylinders = np.random.randint(4, 8, num_samples)  # Nombre de cylindres entre 4 et 7\n",
    "fuel_consumption = np.random.uniform(8.0, 12.0, num_samples)  # Consommation de carburant entre 8.0 et 12.0\n",
    "co2_emissions = 50 * engine_size + 30 * cylinders + 20 * fuel_consumption + np.random.normal(0, 10, num_samples)  # Relation linéaire avec bruit\n",
    "\n",
    "# Création du DataFrame\n",
    "df = pd.DataFrame({\n",
    "    'ENGINESIZE': engine_size,\n",
    "    'CYLINDERS': cylinders,\n",
    "    'FUELCONSUMPTION_COMB': fuel_consumption,\n",
    "    'CO2EMISSIONS': co2_emissions\n",
    "})"
   ]
  },
  {
   "cell_type": "code",
   "execution_count": 8,
   "id": "4057ed64-516d-47df-b146-c212b5f09604",
   "metadata": {},
   "outputs": [
    {
     "data": {
      "text/html": [
       "<div>\n",
       "<style scoped>\n",
       "    .dataframe tbody tr th:only-of-type {\n",
       "        vertical-align: middle;\n",
       "    }\n",
       "\n",
       "    .dataframe tbody tr th {\n",
       "        vertical-align: top;\n",
       "    }\n",
       "\n",
       "    .dataframe thead th {\n",
       "        text-align: right;\n",
       "    }\n",
       "</style>\n",
       "<table border=\"1\" class=\"dataframe\">\n",
       "  <thead>\n",
       "    <tr style=\"text-align: right;\">\n",
       "      <th></th>\n",
       "      <th>ENGINESIZE</th>\n",
       "      <th>CYLINDERS</th>\n",
       "      <th>FUELCONSUMPTION_COMB</th>\n",
       "      <th>CO2EMISSIONS</th>\n",
       "    </tr>\n",
       "  </thead>\n",
       "  <tbody>\n",
       "    <tr>\n",
       "      <th>0</th>\n",
       "      <td>3.195254</td>\n",
       "      <td>5</td>\n",
       "      <td>9.787173</td>\n",
       "      <td>501.195203</td>\n",
       "    </tr>\n",
       "    <tr>\n",
       "      <th>1</th>\n",
       "      <td>3.860757</td>\n",
       "      <td>5</td>\n",
       "      <td>11.347961</td>\n",
       "      <td>575.724616</td>\n",
       "    </tr>\n",
       "    <tr>\n",
       "      <th>2</th>\n",
       "      <td>3.411054</td>\n",
       "      <td>6</td>\n",
       "      <td>8.887296</td>\n",
       "      <td>535.074168</td>\n",
       "    </tr>\n",
       "    <tr>\n",
       "      <th>3</th>\n",
       "      <td>3.179533</td>\n",
       "      <td>4</td>\n",
       "      <td>9.975781</td>\n",
       "      <td>491.564096</td>\n",
       "    </tr>\n",
       "    <tr>\n",
       "      <th>4</th>\n",
       "      <td>2.694619</td>\n",
       "      <td>6</td>\n",
       "      <td>11.718475</td>\n",
       "      <td>544.426049</td>\n",
       "    </tr>\n",
       "  </tbody>\n",
       "</table>\n",
       "</div>"
      ],
      "text/plain": [
       "   ENGINESIZE  CYLINDERS  FUELCONSUMPTION_COMB  CO2EMISSIONS\n",
       "0    3.195254          5              9.787173    501.195203\n",
       "1    3.860757          5             11.347961    575.724616\n",
       "2    3.411054          6              8.887296    535.074168\n",
       "3    3.179533          4              9.975781    491.564096\n",
       "4    2.694619          6             11.718475    544.426049"
      ]
     },
     "execution_count": 8,
     "metadata": {},
     "output_type": "execute_result"
    }
   ],
   "source": [
    "df.head()"
   ]
  },
  {
   "cell_type": "code",
   "execution_count": 10,
   "id": "a0a1e861-78ca-4f88-84b9-5893f758a681",
   "metadata": {},
   "outputs": [],
   "source": [
    "# Division of data into training and test sets\n",
    "msk=np.random.rand(len(df))<0.8\n",
    "train = df[msk]\n",
    "test = df[~msk]\n"
   ]
  },
  {
   "cell_type": "code",
   "execution_count": 14,
   "id": "e28d978a-21dc-4696-bf62-cca5f8c803f8",
   "metadata": {},
   "outputs": [],
   "source": [
    "#preparation des donnees d'entrainement\n",
    "#train\n",
    "train_x = np.asanyarray(train[['ENGINESIZE','CYLINDERS','FUELCONSUMPTION_COMB']])\n",
    "train_y = np.asanyarray(train[['CO2EMISSIONS']])\n",
    "#test\n",
    "test_x = np.asanyarray(test[['ENGINESIZE','CYLINDERS','FUELCONSUMPTION_COMB']])\n",
    "test_y = np.asanyarray(test[['CO2EMISSIONS']])"
   ]
  },
  {
   "cell_type": "code",
   "execution_count": 16,
   "id": "7c1e0582-3260-4c4d-8fa5-0e702e222576",
   "metadata": {},
   "outputs": [
    {
     "name": "stdout",
     "output_type": "stream",
     "text": [
      "Coefficient:  [[49.88942732 30.02988177 20.33662383]]\n",
      "Intercept:  [-3.78859557]\n"
     ]
    }
   ],
   "source": [
    "#Creation et Entrainement du Model\n",
    "regr = linear_model.LinearRegression()\n",
    "regr.fit ( train_x,train_y)\n",
    "print('Coefficient: ',regr.coef_)\n",
    "print('Intercept: ',regr.intercept_)\n"
   ]
  },
  {
   "cell_type": "code",
   "execution_count": 26,
   "id": "cb237b37-c30c-4b55-9dc8-3bf4210d513b",
   "metadata": {},
   "outputs": [
    {
     "name": "stdout",
     "output_type": "stream",
     "text": [
      "Mean Absolue Error 8.16\n",
      "Mean of sum the Square Error 100\n",
      "R-score :0.98\n"
     ]
    }
   ],
   "source": [
    "#prediction et Evaluation des Performances\n",
    "test_y_ = regr.predict(test_x)\n",
    "\n",
    "print(\"Mean Absolue Error %.2f\" % np.mean(np.absolute(test_y_ - test_y)))\n",
    "print(\"Mean of sum the Square Error %2.f\" % np.mean( (test_y_ - test_y) ** 2))\n",
    "print(\"R-score :%.2f\" % r2_score(test_y_,test_y))\n",
    "      "
   ]
  },
  {
   "cell_type": "code",
   "execution_count": null,
   "id": "10045905-6757-4ecf-a3fc-d192a2b0aab7",
   "metadata": {},
   "outputs": [],
   "source": []
  },
  {
   "cell_type": "code",
   "execution_count": null,
   "id": "7d2197ee-bb84-4692-8dbc-67a9382cd95b",
   "metadata": {},
   "outputs": [],
   "source": []
  },
  {
   "cell_type": "code",
   "execution_count": null,
   "id": "6e5b5655-86e4-4a33-8b97-46b8be618363",
   "metadata": {},
   "outputs": [],
   "source": []
  },
  {
   "cell_type": "code",
   "execution_count": null,
   "id": "d4d9ab61-e921-46bb-a0fa-341c0247c7b4",
   "metadata": {},
   "outputs": [],
   "source": []
  },
  {
   "cell_type": "code",
   "execution_count": null,
   "id": "47ce0244-d20b-4df4-9ddc-05f7f1e3e117",
   "metadata": {},
   "outputs": [],
   "source": []
  },
  {
   "cell_type": "code",
   "execution_count": null,
   "id": "2ddb4bce-0239-4304-9b52-f85159012051",
   "metadata": {},
   "outputs": [],
   "source": []
  },
  {
   "cell_type": "code",
   "execution_count": null,
   "id": "265ea8bc-e1c3-44be-9c9d-8e4af51368de",
   "metadata": {},
   "outputs": [],
   "source": []
  },
  {
   "cell_type": "code",
   "execution_count": null,
   "id": "5a60728e-a6fc-4418-9473-3e647f004e90",
   "metadata": {},
   "outputs": [],
   "source": []
  },
  {
   "cell_type": "code",
   "execution_count": null,
   "id": "df7cbf54-b0ea-4aa5-91b5-4bcea62749e8",
   "metadata": {},
   "outputs": [],
   "source": []
  }
 ],
 "metadata": {
  "kernelspec": {
   "display_name": "Python 3 (ipykernel)",
   "language": "python",
   "name": "python3"
  },
  "language_info": {
   "codemirror_mode": {
    "name": "ipython",
    "version": 3
   },
   "file_extension": ".py",
   "mimetype": "text/x-python",
   "name": "python",
   "nbconvert_exporter": "python",
   "pygments_lexer": "ipython3",
   "version": "3.11.7"
  }
 },
 "nbformat": 4,
 "nbformat_minor": 5
}
